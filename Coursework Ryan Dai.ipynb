{
 "cells": [
  {
   "cell_type": "markdown",
   "metadata": {},
   "source": [
    "# Initialise and Data Sort"
   ]
  },
  {
   "cell_type": "code",
   "execution_count": 30,
   "metadata": {},
   "outputs": [],
   "source": [
    "import pandas as pd\n",
    "import numpy as np\n",
    "import matplotlib.pyplot as plt\n",
    "%matplotlib inline\n",
    "from math import sqrt\n",
    "from statistics import mean\n",
    "from sklearn.metrics import mean_squared_error"
   ]
  },
  {
   "cell_type": "code",
   "execution_count": 31,
   "metadata": {},
   "outputs": [],
   "source": [
    "dfprep = pd.read_csv(\"data2.csv\")\n",
    "dfprep = dfprep.drop(dfprep.columns[[3, 4, 5, 6, 7, 8, 9, 10, 11]], axis=1)\n",
    "dfprep.drop(dfprep.tail(1).index,inplace=True)"
   ]
  },
  {
   "cell_type": "code",
   "execution_count": 33,
   "metadata": {},
   "outputs": [],
   "source": [
    "dfprep['Date'] = pd.to_datetime(dfprep.Date , format = '%Y/%m/%d')\n",
    "df = dfprep.drop(['Date'],axis=1)\n",
    "df.index = dfprep.Date\n",
    "train = df[:int(0.7*(len(df)))]\n",
    "valid = df[int(0.7*(len(df))):]"
   ]
  },
  {
   "cell_type": "markdown",
   "metadata": {},
   "source": [
    "# Data Analysis"
   ]
  },
  {
   "cell_type": "code",
   "execution_count": 4,
   "metadata": {
    "scrolled": true
   },
   "outputs": [
    {
     "name": "stdout",
     "output_type": "stream",
     "text": [
      "       Weather (C)  Weight (tons)\n",
      "count    63.000000      63.000000\n",
      "mean     14.526455      18.714762\n",
      "std       8.850364      14.746733\n",
      "min      -3.722222       2.430000\n",
      "25%       6.388889       7.905000\n",
      "50%      15.333333      16.810000\n",
      "75%      22.777778      25.595000\n",
      "max      27.111111      76.890000\n",
      "214.01428526077092\n",
      "3.5228623212064543\n"
     ]
    }
   ],
   "source": [
    "from scipy.stats import kurtosis\n",
    "print(df.describe())\n",
    "print(np.var(df['Weight (tons)']))\n",
    "print(kurtosis(df['Weight (tons)']))"
   ]
  },
  {
   "cell_type": "markdown",
   "metadata": {},
   "source": [
    "# Other Resources\n",
    "https://www.analyticsvidhya.com/blog/2018/09/multivariate-time-series-guide-forecasting-modeling-python-codes/"
   ]
  },
  {
   "cell_type": "markdown",
   "metadata": {},
   "source": [
    "# VAR \n",
    "https://towardsdatascience.com/prediction-task-with-multivariate-timeseries-and-var-model-47003f629f9 https://www.analyticsvidhya.com/blog/2018/09/multivariate-time-series-guide-forecasting-modeling-python-codes/"
   ]
  },
  {
   "cell_type": "code",
   "execution_count": 5,
   "metadata": {},
   "outputs": [
    {
     "name": "stderr",
     "output_type": "stream",
     "text": [
      "C:\\Users\\Ryan\\Anaconda3\\lib\\site-packages\\statsmodels\\tsa\\base\\tsa_model.py:219: ValueWarning: A date index has been provided, but it has no associated frequency information and so will be ignored when e.g. forecasting.\n",
      "  ' ignored when e.g. forecasting.', ValueWarning)\n"
     ]
    }
   ],
   "source": [
    "from statsmodels.tsa.vector_ar.var_model import VAR\n",
    "\n",
    "model = VAR(endog=train)\n",
    "model_fit = model.fit()\n",
    "\n",
    "# make prediction on validation\n",
    "prediction = model_fit.forecast(model_fit.endog, steps=len(valid))\n",
    "\n",
    "#print(prediction)\n",
    "#np.savetxt(\"pred.csv\", prediction, delimiter=\",\")"
   ]
  },
  {
   "cell_type": "code",
   "execution_count": 6,
   "metadata": {},
   "outputs": [
    {
     "name": "stdout",
     "output_type": "stream",
     "text": [
      "rmse value for Weather (C) is :  10.490420739818948\n",
      "rmse value for Weight (tons) is :  16.713538251856445\n"
     ]
    }
   ],
   "source": [
    "#converting predictions to dataframe\n",
    "cols = df.columns\n",
    "pred = pd.DataFrame(index=range(0,len(prediction)),columns=[cols])\n",
    "for j in range(0,2):\n",
    "    for i in range(0, len(prediction)):\n",
    "       pred.iloc[i][j] = prediction[i][j]\n",
    "\n",
    "pred.index = dfprep.Date[int(0.7*(len(df))):]\n",
    "\n",
    "#check rmse\n",
    "for i in cols:\n",
    "    print('rmse value for', i, 'is : ', sqrt(mean_squared_error(pred.loc[:,[i]], valid.loc[:,[i]])))\n",
    "    \n",
    "#make final predictions\n",
    "#model = VAR(endog=df)\n",
    "#model_fit = model.fit()\n",
    "#yhat = model_fit.forecast(model_fit.y, steps=1)\n",
    "#print(yhat)"
   ]
  },
  {
   "cell_type": "markdown",
   "metadata": {},
   "source": [
    "# SARIMA\n",
    "https://machinelearningmastery.com/sarima-for-time-series-forecasting-in-python/"
   ]
  },
  {
   "cell_type": "code",
   "execution_count": 7,
   "metadata": {},
   "outputs": [
    {
     "name": "stderr",
     "output_type": "stream",
     "text": [
      "C:\\Users\\Ryan\\Anaconda3\\lib\\site-packages\\pandas\\util\\_decorators.py:208: FutureWarning: Passing datetime64-dtype data to TimedeltaIndex is deprecated, will raise a TypeError in a future version\n",
      "  return func(*args, **kwargs)\n"
     ]
    }
   ],
   "source": [
    "dfprepSec = dfprep.copy()\n",
    "dfprepSec['Date'] = pd.to_timedelta(dfprepSec['Date'])\n",
    "dfprepSec['Date'] = dfprepSec['Date'].dt.total_seconds()"
   ]
  },
  {
   "cell_type": "code",
   "execution_count": 8,
   "metadata": {},
   "outputs": [],
   "source": [
    "dfprepNP = dfprepSec.to_numpy()\n",
    "trainNP = dfprepNP[:int(0.7*(len(dfprepNP)))]\n",
    "validNP = dfprepNP[int(0.7*(len(dfprepNP))):]"
   ]
  },
  {
   "cell_type": "code",
   "execution_count": 9,
   "metadata": {},
   "outputs": [],
   "source": [
    "trainWeight = trainNP[:,2]\n",
    "trainWeather = trainNP[:,1]\n",
    "validWeight = validNP[:,2]\n",
    "validWeather = validNP[:,1]"
   ]
  },
  {
   "cell_type": "code",
   "execution_count": 10,
   "metadata": {},
   "outputs": [],
   "source": [
    "# SARIMAX example\n",
    "from statsmodels.tsa.statespace.sarimax import SARIMAX\n",
    "from random import random\n",
    "# contrived dataset\n",
    "\n",
    "\n",
    "\n",
    "# fit model\n",
    "#model = SARIMAX(trainWeight, exog=None, order=(0,0,1), seasonal_order=(0,1,0,12)) \n",
    "\n",
    "model = SARIMAX(trainWeight, exog=None, order=(1, 0, 0), seasonal_order=(0, 0, 0, 365))\n",
    "#model = SARIMAX(trainWeight, exog=trainWeather, order=(1, 1, 1), seasonal_order=(0, 0, 0, 0))\n",
    "#model = SARIMAX(trainWeight, exog=trainWeather, order=(2, 1, 0), seasonal_order=(1,1,0,12))\n",
    "\n",
    "\n",
    "model_fit = model.fit(disp=False)\n",
    "#print(model_fit.summary())\n",
    "\n",
    "#yhat = model_fit.forecast(19)\n",
    "\n",
    "# make prediction\n",
    "\n",
    "predict = model_fit.get_prediction()\n",
    "predict_ci = predict.conf_int()\n",
    "prediction = []\n",
    "#for i in range(len(predict_ci)):\n",
    "for i in range(len(validWeight)):\n",
    "    prediction.append([mean(predict_ci[i])])\n",
    "#print(prediction)\n",
    "\n",
    "#pred = model_fit.get_prediction()\n",
    "#print(pred.prediction_results)\n",
    "\n",
    "\n",
    "#exog2 = [200 + random()]\n",
    "#print(exog2)\n",
    "#yhat = model_fit.predict(len(trainWeight), len(trainWeight)+18, exog=validWeather)\n",
    "#print(yhat)\n"
   ]
  },
  {
   "cell_type": "code",
   "execution_count": 11,
   "metadata": {},
   "outputs": [
    {
     "name": "stdout",
     "output_type": "stream",
     "text": [
      "20.916603045784193\n"
     ]
    }
   ],
   "source": [
    "#converting predictions to dataframe\n",
    "cols = df.columns\n",
    "pred = pd.DataFrame(index=range(0,len(prediction)),columns=['Weight (tons)'])\n",
    "for j in range(0,1):\n",
    "    for i in range(0, len(prediction)):\n",
    "       pred.iloc[i][j] = prediction[i][j]\n",
    "\n",
    "pred.index = dfprep.Date[int(0.7*(len(df))):]\n",
    "\n",
    "print(sqrt(mean_squared_error(pred, valid['Weight (tons)'])))\n",
    "#np.savetxt(\"pred.csv\", prediction, delimiter=\",\")"
   ]
  },
  {
   "cell_type": "markdown",
   "metadata": {},
   "source": [
    "# SARIMAX \n",
    "https://machinelearningmastery.com/sarima-for-time-series-forecasting-in-python/"
   ]
  },
  {
   "cell_type": "code",
   "execution_count": 12,
   "metadata": {},
   "outputs": [
    {
     "name": "stderr",
     "output_type": "stream",
     "text": [
      "C:\\Users\\Ryan\\Anaconda3\\lib\\site-packages\\pandas\\util\\_decorators.py:208: FutureWarning: Passing datetime64-dtype data to TimedeltaIndex is deprecated, will raise a TypeError in a future version\n",
      "  return func(*args, **kwargs)\n"
     ]
    }
   ],
   "source": [
    "dfprepSec = dfprep.copy()\n",
    "dfprepSec['Date'] = pd.to_timedelta(dfprepSec['Date'])\n",
    "dfprepSec['Date'] = dfprepSec['Date'].dt.total_seconds()"
   ]
  },
  {
   "cell_type": "code",
   "execution_count": 13,
   "metadata": {},
   "outputs": [],
   "source": [
    "dfprepNP = dfprepSec.to_numpy()\n",
    "trainNP = dfprepNP[:int(0.7*(len(dfprepNP)))]\n",
    "validNP = dfprepNP[int(0.7*(len(dfprepNP))):]"
   ]
  },
  {
   "cell_type": "code",
   "execution_count": 14,
   "metadata": {},
   "outputs": [],
   "source": [
    "trainWeight = trainNP[:,2]\n",
    "trainWeather = trainNP[:,1]\n",
    "validWeight = validNP[:,2]\n",
    "validWeather = validNP[:,1]"
   ]
  },
  {
   "cell_type": "code",
   "execution_count": 15,
   "metadata": {},
   "outputs": [],
   "source": [
    "# SARIMAX example\n",
    "from statsmodels.tsa.statespace.sarimax import SARIMAX\n",
    "from random import random\n",
    "# contrived dataset\n",
    "\n",
    "\n",
    "\n",
    "# fit model\n",
    "model = SARIMAX(trainWeight, exog=trainWeather, order=(0,0,1), seasonal_order=(0,1,0,12)) #This is good\n",
    "\n",
    "#model = SARIMAX(trainWeight, exog=trainWeather, order=(1, 0, 0), seasonal_order=(0, 0, 0, 365))\n",
    "#model = SARIMAX(trainWeight, exog=trainWeather, order=(1, 1, 1), seasonal_order=(0, 0, 0, 0))\n",
    "#model = SARIMAX(trainWeight, exog=trainWeather, order=(2, 1, 0), seasonal_order=(1,1,0,12))\n",
    "\n",
    "\n",
    "model_fit = model.fit(disp=False)\n",
    "#print(model_fit.summary())\n",
    "\n",
    "#yhat = model_fit.forecast(19)\n",
    "\n",
    "# make prediction\n",
    "\n",
    "predict = model_fit.get_prediction()\n",
    "predict_ci = predict.conf_int()\n",
    "prediction = []\n",
    "#for i in range(len(predict_ci)):\n",
    "for i in range(len(validWeight)):\n",
    "    prediction.append([mean(predict_ci[i])])\n",
    "#print(prediction)\n",
    "\n",
    "#pred = model_fit.get_prediction()\n",
    "#print(pred.prediction_results)\n",
    "\n",
    "\n",
    "#exog2 = [200 + random()]\n",
    "#print(exog2)\n",
    "#yhat = model_fit.predict(len(trainWeight), len(trainWeight)+18, exog=validWeather)\n",
    "#print(yhat)\n"
   ]
  },
  {
   "cell_type": "code",
   "execution_count": 16,
   "metadata": {
    "scrolled": true
   },
   "outputs": [
    {
     "name": "stdout",
     "output_type": "stream",
     "text": [
      "17.414999914576686\n"
     ]
    }
   ],
   "source": [
    "#converting predictions to dataframe\n",
    "cols = df.columns\n",
    "pred = pd.DataFrame(index=range(0,len(prediction)),columns=['Weight (tons)'])\n",
    "for j in range(0,1):\n",
    "    for i in range(0, len(prediction)):\n",
    "       pred.iloc[i][j] = prediction[i][j]\n",
    "\n",
    "pred.index = dfprep.Date[int(0.7*(len(df))):]\n",
    "\n",
    "print(sqrt(mean_squared_error(pred, valid['Weight (tons)'])))\n",
    "#np.savetxt(\"pred.csv\", prediction, delimiter=\",\")"
   ]
  },
  {
   "cell_type": "markdown",
   "metadata": {},
   "source": [
    "# NN \n",
    "https://machinelearningmastery.com/multivariate-time-series-forecasting-lstms-keras/"
   ]
  },
  {
   "cell_type": "code",
   "execution_count": 37,
   "metadata": {},
   "outputs": [],
   "source": [
    "from datetime import datetime\n",
    "from math import sqrt\n",
    "from numpy import concatenate\n",
    "from matplotlib import pyplot\n",
    "import pandas as pd\n",
    "from pandas import read_csv\n",
    "from pandas import DataFrame\n",
    "from pandas import concat\n",
    "from sklearn.preprocessing import MinMaxScaler\n",
    "from sklearn.preprocessing import LabelEncoder\n",
    "from sklearn.metrics import mean_squared_error\n",
    "from keras.models import Sequential\n",
    "from keras.layers import Dense\n",
    "from keras.layers import LSTM"
   ]
  },
  {
   "cell_type": "code",
   "execution_count": 38,
   "metadata": {},
   "outputs": [],
   "source": [
    "# convert series to supervised learning\n",
    "def series_to_supervised(data, n_in=1, n_out=1, dropnan=True):\n",
    "    n_vars = 1 if type(data) is list else data.shape[1]\n",
    "    df = DataFrame(data)\n",
    "    cols, names = list(), list()\n",
    "    # input sequence (t-n, ... t-1)\n",
    "    for i in range(n_in, 0, -1):\n",
    "        cols.append(df.shift(i))\n",
    "        names += [('var%d(t-%d)' % (j+1, i)) for j in range(n_vars)]\n",
    "    # forecast sequence (t, t+1, ... t+n)\n",
    "    for i in range(0, n_out):\n",
    "        cols.append(df.shift(-i))\n",
    "        if i == 0:\n",
    "            names += [('var%d(t)' % (j+1)) for j in range(n_vars)]\n",
    "        else:\n",
    "            names += [('var%d(t+%d)' % (j+1, i)) for j in range(n_vars)]\n",
    "    # put it all together\n",
    "    agg = concat(cols, axis=1)\n",
    "    agg.columns = names\n",
    "    # drop rows with NaN values\n",
    "    if dropnan:\n",
    "        agg.dropna(inplace=True)\n",
    "    return agg\n",
    " "
   ]
  },
  {
   "cell_type": "code",
   "execution_count": 39,
   "metadata": {},
   "outputs": [],
   "source": [
    "# load dataset\n",
    "datasetPrep = pd.read_csv('data2.csv')\n",
    "\n",
    "datasetPrep.drop(datasetPrep.tail(1).index,inplace=True)\n",
    "datasetPrep = datasetPrep.drop(datasetPrep.columns[[3, 4, 5, 6, 7, 8, 9, 10, 11]], axis=1)\n",
    "\n",
    "datasetPrep['Date'] = pd.to_datetime(datasetPrep.Date , format = '%Y/%m/%d')\n",
    "dataset = datasetPrep.drop(['Date'], axis=1)\n",
    "dataset.index = datasetPrep.Date\n",
    "\n",
    "values = dataset.values"
   ]
  },
  {
   "cell_type": "code",
   "execution_count": 40,
   "metadata": {},
   "outputs": [],
   "source": [
    "# integer encode direction\n",
    "encoder = LabelEncoder()\n",
    "values[:,1] = encoder.fit_transform(values[:,1])\n",
    "# ensure all data is float\n",
    "values = values.astype('float32')\n",
    "# normalize features\n",
    "scaler = MinMaxScaler(feature_range=(0, 1))\n",
    "scaled = scaler.fit_transform(values)\n",
    "# frame as supervised learning\n",
    "reframed = series_to_supervised(scaled, 1, 1)\n",
    "reframed = reframed.drop(reframed.columns[[3]], axis=1)\n"
   ]
  },
  {
   "cell_type": "code",
   "execution_count": 41,
   "metadata": {},
   "outputs": [
    {
     "name": "stdout",
     "output_type": "stream",
     "text": [
      "(43, 1, 2) (43,) (19, 1, 2) (19,)\n"
     ]
    }
   ],
   "source": [
    "# split into train and test sets\n",
    "values = reframed.values\n",
    "n_train_months = int(0.7*(len(dataset))-1)\n",
    "train = values[:n_train_months, :]\n",
    "test = values[n_train_months:, :]\n",
    "# split into input and outputs\n",
    "train_X, train_y = train[:, :-1], train[:, -1]\n",
    "test_X, test_y = test[:, :-1], test[:, -1]\n",
    "# reshape input to be 3D [samples, timesteps, features]\n",
    "train_X = train_X.reshape((train_X.shape[0], 1, train_X.shape[1]))\n",
    "test_X = test_X.reshape((test_X.shape[0], 1, test_X.shape[1]))\n",
    "print(train_X.shape, train_y.shape, test_X.shape, test_y.shape)\n"
   ]
  },
  {
   "cell_type": "code",
   "execution_count": 42,
   "metadata": {},
   "outputs": [
    {
     "name": "stdout",
     "output_type": "stream",
     "text": [
      "Train on 43 samples, validate on 19 samples\n",
      "Epoch 1/75\n",
      " - 1s - loss: 0.5457 - val_loss: 0.5668\n",
      "Epoch 2/75\n",
      " - 0s - loss: 0.5397 - val_loss: 0.5602\n",
      "Epoch 3/75\n",
      " - 0s - loss: 0.5336 - val_loss: 0.5536\n",
      "Epoch 4/75\n",
      " - 0s - loss: 0.5275 - val_loss: 0.5470\n",
      "Epoch 5/75\n",
      " - 0s - loss: 0.5214 - val_loss: 0.5404\n",
      "Epoch 6/75\n",
      " - 0s - loss: 0.5152 - val_loss: 0.5338\n",
      "Epoch 7/75\n",
      " - 0s - loss: 0.5091 - val_loss: 0.5271\n",
      "Epoch 8/75\n",
      " - 0s - loss: 0.5029 - val_loss: 0.5204\n",
      "Epoch 9/75\n",
      " - 0s - loss: 0.4966 - val_loss: 0.5136\n",
      "Epoch 10/75\n",
      " - 0s - loss: 0.4904 - val_loss: 0.5069\n",
      "Epoch 11/75\n",
      " - 0s - loss: 0.4841 - val_loss: 0.5001\n",
      "Epoch 12/75\n",
      " - 0s - loss: 0.4778 - val_loss: 0.4932\n",
      "Epoch 13/75\n",
      " - 0s - loss: 0.4714 - val_loss: 0.4863\n",
      "Epoch 14/75\n",
      " - 0s - loss: 0.4652 - val_loss: 0.4793\n",
      "Epoch 15/75\n",
      " - 0s - loss: 0.4591 - val_loss: 0.4723\n",
      "Epoch 16/75\n",
      " - 0s - loss: 0.4529 - val_loss: 0.4653\n",
      "Epoch 17/75\n",
      " - 0s - loss: 0.4467 - val_loss: 0.4582\n",
      "Epoch 18/75\n",
      " - 0s - loss: 0.4406 - val_loss: 0.4510\n",
      "Epoch 19/75\n",
      " - 0s - loss: 0.4345 - val_loss: 0.4438\n",
      "Epoch 20/75\n",
      " - 0s - loss: 0.4285 - val_loss: 0.4366\n",
      "Epoch 21/75\n",
      " - 0s - loss: 0.4223 - val_loss: 0.4293\n",
      "Epoch 22/75\n",
      " - 0s - loss: 0.4162 - val_loss: 0.4220\n",
      "Epoch 23/75\n",
      " - 0s - loss: 0.4101 - val_loss: 0.4145\n",
      "Epoch 24/75\n",
      " - 0s - loss: 0.4040 - val_loss: 0.4073\n",
      "Epoch 25/75\n",
      " - 0s - loss: 0.3980 - val_loss: 0.4003\n",
      "Epoch 26/75\n",
      " - 0s - loss: 0.3919 - val_loss: 0.3933\n",
      "Epoch 27/75\n",
      " - 0s - loss: 0.3857 - val_loss: 0.3863\n",
      "Epoch 28/75\n",
      " - 0s - loss: 0.3794 - val_loss: 0.3791\n",
      "Epoch 29/75\n",
      " - 0s - loss: 0.3731 - val_loss: 0.3719\n",
      "Epoch 30/75\n",
      " - 0s - loss: 0.3668 - val_loss: 0.3646\n",
      "Epoch 31/75\n",
      " - 0s - loss: 0.3603 - val_loss: 0.3572\n",
      "Epoch 32/75\n",
      " - 0s - loss: 0.3538 - val_loss: 0.3497\n",
      "Epoch 33/75\n",
      " - 0s - loss: 0.3472 - val_loss: 0.3423\n",
      "Epoch 34/75\n",
      " - 0s - loss: 0.3405 - val_loss: 0.3355\n",
      "Epoch 35/75\n",
      " - 0s - loss: 0.3337 - val_loss: 0.3294\n",
      "Epoch 36/75\n",
      " - 0s - loss: 0.3269 - val_loss: 0.3233\n",
      "Epoch 37/75\n",
      " - 0s - loss: 0.3199 - val_loss: 0.3170\n",
      "Epoch 38/75\n",
      " - 0s - loss: 0.3129 - val_loss: 0.3108\n",
      "Epoch 39/75\n",
      " - 0s - loss: 0.3058 - val_loss: 0.3044\n",
      "Epoch 40/75\n",
      " - 0s - loss: 0.2989 - val_loss: 0.2980\n",
      "Epoch 41/75\n",
      " - 0s - loss: 0.2919 - val_loss: 0.2914\n",
      "Epoch 42/75\n",
      " - 0s - loss: 0.2851 - val_loss: 0.2849\n",
      "Epoch 43/75\n",
      " - 0s - loss: 0.2791 - val_loss: 0.2787\n",
      "Epoch 44/75\n",
      " - 0s - loss: 0.2731 - val_loss: 0.2730\n",
      "Epoch 45/75\n",
      " - 0s - loss: 0.2670 - val_loss: 0.2673\n",
      "Epoch 46/75\n",
      " - 0s - loss: 0.2609 - val_loss: 0.2615\n",
      "Epoch 47/75\n",
      " - 0s - loss: 0.2548 - val_loss: 0.2558\n",
      "Epoch 48/75\n",
      " - 0s - loss: 0.2486 - val_loss: 0.2506\n",
      "Epoch 49/75\n",
      " - 0s - loss: 0.2424 - val_loss: 0.2452\n",
      "Epoch 50/75\n",
      " - 0s - loss: 0.2361 - val_loss: 0.2399\n",
      "Epoch 51/75\n",
      " - 0s - loss: 0.2298 - val_loss: 0.2344\n",
      "Epoch 52/75\n",
      " - 0s - loss: 0.2235 - val_loss: 0.2289\n",
      "Epoch 53/75\n",
      " - 0s - loss: 0.2173 - val_loss: 0.2234\n",
      "Epoch 54/75\n",
      " - 0s - loss: 0.2114 - val_loss: 0.2178\n",
      "Epoch 55/75\n",
      " - 0s - loss: 0.2054 - val_loss: 0.2122\n",
      "Epoch 56/75\n",
      " - 0s - loss: 0.1994 - val_loss: 0.2066\n",
      "Epoch 57/75\n",
      " - 0s - loss: 0.1935 - val_loss: 0.2013\n",
      "Epoch 58/75\n",
      " - 0s - loss: 0.1883 - val_loss: 0.1970\n",
      "Epoch 59/75\n",
      " - 0s - loss: 0.1833 - val_loss: 0.1926\n",
      "Epoch 60/75\n",
      " - 0s - loss: 0.1785 - val_loss: 0.1885\n",
      "Epoch 61/75\n",
      " - 0s - loss: 0.1737 - val_loss: 0.1848\n",
      "Epoch 62/75\n",
      " - 0s - loss: 0.1689 - val_loss: 0.1811\n",
      "Epoch 63/75\n",
      " - 0s - loss: 0.1641 - val_loss: 0.1774\n",
      "Epoch 64/75\n",
      " - 0s - loss: 0.1602 - val_loss: 0.1737\n",
      "Epoch 65/75\n",
      " - 0s - loss: 0.1567 - val_loss: 0.1702\n",
      "Epoch 66/75\n",
      " - 0s - loss: 0.1534 - val_loss: 0.1666\n",
      "Epoch 67/75\n",
      " - 0s - loss: 0.1501 - val_loss: 0.1634\n",
      "Epoch 68/75\n",
      " - 0s - loss: 0.1469 - val_loss: 0.1604\n",
      "Epoch 69/75\n",
      " - 0s - loss: 0.1441 - val_loss: 0.1575\n",
      "Epoch 70/75\n",
      " - 0s - loss: 0.1420 - val_loss: 0.1546\n",
      "Epoch 71/75\n",
      " - 0s - loss: 0.1403 - val_loss: 0.1519\n",
      "Epoch 72/75\n",
      " - 0s - loss: 0.1390 - val_loss: 0.1493\n",
      "Epoch 73/75\n",
      " - 0s - loss: 0.1378 - val_loss: 0.1468\n",
      "Epoch 74/75\n",
      " - 0s - loss: 0.1370 - val_loss: 0.1444\n",
      "Epoch 75/75\n",
      " - 0s - loss: 0.1363 - val_loss: 0.1421\n"
     ]
    },
    {
     "data": {
      "image/png": "[encoded data removed]",
      "text/plain": [
       "<Figure size 432x288 with 1 Axes>"
      ]
     },
     "metadata": {
      "needs_background": "light"
     },
     "output_type": "display_data"
    }
   ],
   "source": [
    "\n",
    "# design network\n",
    "model = Sequential()\n",
    "model.add(LSTM(50, input_shape=(train_X.shape[1], train_X.shape[2])))\n",
    "model.add(Dense(1))\n",
    "model.compile(loss='mae', optimizer='adam')\n",
    "# fit network\n",
    "history = model.fit(train_X, train_y, epochs=75, batch_size=72, validation_data=(test_X, test_y), verbose=2, shuffle=False)\n",
    "# plot history\n",
    "pyplot.plot(history.history['loss'], label='train')\n",
    "pyplot.plot(history.history['val_loss'], label='test')\n",
    "pyplot.legend()\n",
    "pyplot.show()\n"
   ]
  },
  {
   "cell_type": "code",
   "execution_count": 43,
   "metadata": {},
   "outputs": [
    {
     "name": "stdout",
     "output_type": "stream",
     "text": [
      "Test RMSE: 5.754\n"
     ]
    }
   ],
   "source": [
    "# make a prediction\n",
    "yhat = model.predict(test_X)\n",
    "test_X = test_X.reshape((test_X.shape[0], test_X.shape[2]))\n",
    "# invert scaling for forecast\n",
    "inv_yhat = concatenate((yhat, test_X[:, 1:]), axis=1)\n",
    "\n",
    "inv_yhat = scaler.inverse_transform(inv_yhat)\n",
    "\n",
    "inv_yhat = inv_yhat[:,0]\n",
    "# invert scaling for actual\n",
    "test_y = test_y.reshape((len(test_y), 1))\n",
    "inv_y = concatenate((test_y, test_X[:, 1:]), axis=1)\n",
    "inv_y = scaler.inverse_transform(inv_y)\n",
    "inv_y = inv_y[:,0]\n",
    "# calculate RMSE\n",
    "rmse = sqrt(mean_squared_error(inv_y, inv_yhat))\n",
    "print('Test RMSE: %.3f' % rmse)"
   ]
  },
  {
   "cell_type": "code",
   "execution_count": 44,
   "metadata": {},
   "outputs": [],
   "source": [
    "#converting predictions to dataframe\n",
    "from copy import deepcopy\n",
    "prediction = deepcopy(inv_y)\n",
    "prediction = np.split(prediction, len(prediction))\n",
    "\n",
    "cols = df.columns\n",
    "pred = pd.DataFrame(index=range(0,len(prediction)),columns=['Weight (tons)'])\n",
    "for j in range(0,1):\n",
    "    for i in range(0, len(prediction)):\n",
    "        pred.iloc[i][j] = prediction[i][j]\n",
    "\n",
    "pred.index = dfprep.Date[int(0.7*(len(df))):]\n",
    "\n",
    "#pred.index = dfprepDatelessone\n",
    "\n",
    "#print(sqrt(mean_squared_error(pred, valid['Weight (tons)'])))\n",
    "#np.savetxt(\"pred.csv\", prediction, delimiter=\",\")"
   ]
  },
  {
   "cell_type": "markdown",
   "metadata": {},
   "source": [
    "# Random Forest \n",
    "https://towardsdatascience.com/multivariate-time-series-forecasting-using-random-forest-2372f3ecbad1"
   ]
  },
  {
   "cell_type": "code",
   "execution_count": 34,
   "metadata": {},
   "outputs": [],
   "source": [
    "from sklearn.ensemble.forest import RandomForestRegressor\n",
    "\n",
    "rgr = RandomForestRegressor(n_estimators=100, max_features=1, oob_score=True)\n",
    "\n",
    "feat = train.index[:,None]\n",
    "lab = train['Weight (tons)']#.index[:]\n",
    "\n",
    "rgr.fit(feat, lab)\n",
    "#rgr.fit(train.index, train['Weight (tons)'])\n",
    "\n",
    "prediction = rgr.predict(feat)\n",
    "prediction = np.split(prediction, len(prediction))"
   ]
  },
  {
   "cell_type": "code",
   "execution_count": 35,
   "metadata": {},
   "outputs": [
    {
     "name": "stdout",
     "output_type": "stream",
     "text": [
      "21.21506888466434\n"
     ]
    }
   ],
   "source": [
    "#converting predictions to dataframe\n",
    "cols = df.columns\n",
    "pred = pd.DataFrame(index=range(0,len(valid)),columns=['Weight (tons)'])\n",
    "for j in range(0,1):\n",
    "    for i in range(0, len(valid)):\n",
    "        pred.iloc[i][j] = prediction[i][j]\n",
    "\n",
    "pred.index = dfprep.Date[int(0.7*(len(df))):]\n",
    "\n",
    "print(sqrt(mean_squared_error(pred, valid['Weight (tons)'])))\n",
    "#np.savetxt(\"pred.csv\", prediction, delimiter=\",\")"
   ]
  },
  {
   "cell_type": "markdown",
   "metadata": {},
   "source": [
    "# Plot"
   ]
  },
  {
   "cell_type": "code",
   "execution_count": 45,
   "metadata": {},
   "outputs": [
    {
     "name": "stderr",
     "output_type": "stream",
     "text": [
      "C:\\Users\\Ryan\\Anaconda3\\lib\\site-packages\\pandas\\plotting\\_matplotlib\\converter.py:103: FutureWarning: Using an implicitly registered datetime converter for a matplotlib plotting method. The converter was registered by pandas on import. Future versions of pandas will require you to explicitly register matplotlib converters.\n",
      "\n",
      "To register the converters:\n",
      "\t>>> from pandas.plotting import register_matplotlib_converters\n",
      "\t>>> register_matplotlib_converters()\n",
      "  warnings.warn(msg, FutureWarning)\n"
     ]
    },
    {
     "data": {
      "image/png": "[encoded data removed]",
      "text/plain": [
       "<Figure size 432x288 with 1 Axes>"
      ]
     },
     "metadata": {
      "needs_background": "light"
     },
     "output_type": "display_data"
    }
   ],
   "source": [
    "#plt.plot(pred.loc[:,['Weather (C)']], label = ('Weather Prediction'))\n",
    "plt.plot(pred.loc[:,['Weight (tons)']], label = ('Weight Prediction'))\n",
    "plt.legend()\n",
    "\n",
    "#plt.plot(valid.loc[:,['Weather (C)']], label = ('Weather Actual'))\n",
    "plt.plot(valid.loc[:,['Weight (tons)']], label = ('Weight Actual'))\n",
    "plt.legend()\n",
    "plt.xlabel('Date')\n",
    "plt.ylabel('Weight of Debris (tons)')\n",
    "\n",
    "plt.ylim(-20,60)\n",
    "plt.show()"
   ]
  },
  {
   "cell_type": "code",
   "execution_count": null,
   "metadata": {},
   "outputs": [],
   "source": []
  }
 ],
 "metadata": {
  "kernelspec": {
   "display_name": "Python 3",
   "language": "python",
   "name": "python3"
  },
  "language_info": {
   "codemirror_mode": {
    "name": "ipython",
    "version": 3
   },
   "file_extension": ".py",
   "mimetype": "text/x-python",
   "name": "python",
   "nbconvert_exporter": "python",
   "pygments_lexer": "ipython3",
   "version": "3.7.4"
  }
 },
 "nbformat": 4,
 "nbformat_minor": 2
}
