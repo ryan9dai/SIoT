{
 "cells": [
  {
   "cell_type": "markdown",
   "metadata": {},
   "source": [
    "# Initialise and Data Sort"
   ]
  },
  {
   "cell_type": "code",
   "execution_count": 1,
   "metadata": {},
   "outputs": [],
   "source": [
    "import pandas as pd\n",
    "import numpy as np\n",
    "import matplotlib.pyplot as plt\n",
    "%matplotlib inline\n",
    "from math import sqrt\n",
    "from statistics import mean\n",
    "from sklearn.metrics import mean_squared_error"
   ]
  },
  {
   "cell_type": "code",
   "execution_count": 2,
   "metadata": {},
   "outputs": [],
   "source": [
    "dfprep = pd.read_csv(\"data2.csv\")\n",
    "dfprep = dfprep.drop(dfprep.columns[[3, 4, 5, 6, 7, 8, 9, 10, 11]], axis=1)\n",
    "dfprep.drop(dfprep.tail(1).index,inplace=True)"
   ]
  },
  {
   "cell_type": "code",
   "execution_count": 3,
   "metadata": {},
   "outputs": [],
   "source": [
    "dfprep['Date'] = pd.to_datetime(dfprep.Date , format = '%Y/%m/%d')\n",
    "df = dfprep.drop(['Date'], axis=1)\n",
    "df.index = dfprep.Date\n",
    "train = df[:int(0.7*(len(df)))]\n",
    "valid = df[int(0.7*(len(df))):]"
   ]
  },
  {
   "cell_type": "markdown",
   "metadata": {},
   "source": [
    "# Data Analysis"
   ]
  },
  {
   "cell_type": "code",
   "execution_count": 78,
   "metadata": {},
   "outputs": [
    {
     "name": "stdout",
     "output_type": "stream",
     "text": [
      "       Weight (tons)  Weather (C)\n",
      "count      63.000000    63.000000\n",
      "mean       18.714762    14.526455\n",
      "std        14.746733     8.850364\n",
      "min         2.430000    -3.722222\n",
      "25%         7.905000     6.388889\n",
      "50%        16.810000    15.333333\n",
      "75%        25.595000    22.777778\n",
      "max        76.890000    27.111111\n",
      "214.01428526077092\n",
      "3.5228623212064543\n"
     ]
    }
   ],
   "source": [
    "from scipy.stats import kurtosis\n",
    "print(df.describe())\n",
    "print(np.var(df['Weight (tons)']))\n",
    "print(kurtosis(df['Weight (tons)']))"
   ]
  },
  {
   "cell_type": "markdown",
   "metadata": {},
   "source": [
    "# VAR https://towardsdatascience.com/prediction-task-with-multivariate-timeseries-and-var-model-47003f629f9"
   ]
  },
  {
   "cell_type": "code",
   "execution_count": null,
   "metadata": {},
   "outputs": [],
   "source": [
    "from statsmodels.tsa.vector_ar.var_model import VAR\n",
    "\n",
    "model = VAR(endog=train)\n",
    "model_fit = model.fit()\n",
    "\n",
    "# make prediction on validation\n",
    "prediction = model_fit.forecast(model_fit.endog, steps=len(valid))\n",
    "\n",
    "#print(prediction)\n",
    "#np.savetxt(\"pred.csv\", prediction, delimiter=\",\")"
   ]
  },
  {
   "cell_type": "code",
   "execution_count": null,
   "metadata": {},
   "outputs": [],
   "source": [
    "#converting predictions to dataframe\n",
    "cols = df.columns\n",
    "pred = pd.DataFrame(index=range(0,len(prediction)),columns=[cols])\n",
    "for j in range(0,2):\n",
    "    for i in range(0, len(prediction)):\n",
    "       pred.iloc[i][j] = prediction[i][j]\n",
    "\n",
    "pred.index = dfprep.Date[int(0.7*(len(df))):]\n",
    "\n",
    "#check rmse\n",
    "for i in cols:\n",
    "    print('rmse value for', i, 'is : ', sqrt(mean_squared_error(pred.loc[:,[i]], valid.loc[:,[i]])))\n",
    "    \n",
    "#make final predictions\n",
    "#model = VAR(endog=df)\n",
    "#model_fit = model.fit()\n",
    "#yhat = model_fit.forecast(model_fit.y, steps=1)\n",
    "#print(yhat)"
   ]
  },
  {
   "cell_type": "markdown",
   "metadata": {},
   "source": [
    "# SARIMA https://machinelearningmastery.com/sarima-for-time-series-forecasting-in-python/"
   ]
  },
  {
   "cell_type": "code",
   "execution_count": null,
   "metadata": {},
   "outputs": [],
   "source": [
    "dfprepSec = dfprep.copy()\n",
    "dfprepSec['Date'] = pd.to_timedelta(dfprepSec['Date'])\n",
    "dfprepSec['Date'] = dfprepSec['Date'].dt.total_seconds()"
   ]
  },
  {
   "cell_type": "code",
   "execution_count": null,
   "metadata": {},
   "outputs": [],
   "source": [
    "dfprepNP = dfprepSec.to_numpy()\n",
    "trainNP = dfprepNP[:int(0.7*(len(dfprepNP)))]\n",
    "validNP = dfprepNP[int(0.7*(len(dfprepNP))):]"
   ]
  },
  {
   "cell_type": "code",
   "execution_count": null,
   "metadata": {},
   "outputs": [],
   "source": [
    "trainWeight = trainNP[:,2]\n",
    "trainWeather = trainNP[:,1]\n",
    "validWeight = validNP[:,2]\n",
    "validWeather = validNP[:,1]"
   ]
  },
  {
   "cell_type": "code",
   "execution_count": null,
   "metadata": {},
   "outputs": [],
   "source": [
    "# SARIMAX example\n",
    "from statsmodels.tsa.statespace.sarimax import SARIMAX\n",
    "from random import random\n",
    "# contrived dataset\n",
    "\n",
    "\n",
    "\n",
    "# fit model\n",
    "#model = SARIMAX(trainWeight, exog=None, order=(0,0,1), seasonal_order=(0,1,0,12)) \n",
    "\n",
    "model = SARIMAX(trainWeight, exog=None, order=(1, 0, 0), seasonal_order=(0, 0, 0, 365))\n",
    "#model = SARIMAX(trainWeight, exog=trainWeather, order=(1, 1, 1), seasonal_order=(0, 0, 0, 0))\n",
    "#model = SARIMAX(trainWeight, exog=trainWeather, order=(2, 1, 0), seasonal_order=(1,1,0,12))\n",
    "\n",
    "\n",
    "model_fit = model.fit(disp=False)\n",
    "#print(model_fit.summary())\n",
    "\n",
    "#yhat = model_fit.forecast(19)\n",
    "\n",
    "# make prediction\n",
    "\n",
    "predict = model_fit.get_prediction()\n",
    "predict_ci = predict.conf_int()\n",
    "prediction = []\n",
    "#for i in range(len(predict_ci)):\n",
    "for i in range(len(validWeight)):\n",
    "    prediction.append([mean(predict_ci[i])])\n",
    "#print(prediction)\n",
    "\n",
    "#pred = model_fit.get_prediction()\n",
    "#print(pred.prediction_results)\n",
    "\n",
    "\n",
    "#exog2 = [200 + random()]\n",
    "#print(exog2)\n",
    "#yhat = model_fit.predict(len(trainWeight), len(trainWeight)+18, exog=validWeather)\n",
    "#print(yhat)\n"
   ]
  },
  {
   "cell_type": "code",
   "execution_count": null,
   "metadata": {},
   "outputs": [],
   "source": [
    "#converting predictions to dataframe\n",
    "cols = df.columns\n",
    "pred = pd.DataFrame(index=range(0,len(prediction)),columns=['Weight (tons)'])\n",
    "for j in range(0,1):\n",
    "    for i in range(0, len(prediction)):\n",
    "       pred.iloc[i][j] = prediction[i][j]\n",
    "\n",
    "pred.index = dfprep.Date[int(0.7*(len(df))):]\n",
    "\n",
    "print(sqrt(mean_squared_error(pred, valid['Weight (tons)'])))\n",
    "#np.savetxt(\"pred.csv\", prediction, delimiter=\",\")"
   ]
  },
  {
   "cell_type": "markdown",
   "metadata": {},
   "source": [
    "# SARIMAX https://machinelearningmastery.com/sarima-for-time-series-forecasting-in-python/"
   ]
  },
  {
   "cell_type": "code",
   "execution_count": null,
   "metadata": {},
   "outputs": [],
   "source": [
    "dfprepSec = dfprep.copy()\n",
    "dfprepSec['Date'] = pd.to_timedelta(dfprepSec['Date'])\n",
    "dfprepSec['Date'] = dfprepSec['Date'].dt.total_seconds()"
   ]
  },
  {
   "cell_type": "code",
   "execution_count": null,
   "metadata": {},
   "outputs": [],
   "source": [
    "dfprepNP = dfprepSec.to_numpy()\n",
    "trainNP = dfprepNP[:int(0.7*(len(dfprepNP)))]\n",
    "validNP = dfprepNP[int(0.7*(len(dfprepNP))):]"
   ]
  },
  {
   "cell_type": "code",
   "execution_count": null,
   "metadata": {},
   "outputs": [],
   "source": [
    "trainWeight = trainNP[:,2]\n",
    "trainWeather = trainNP[:,1]\n",
    "validWeight = validNP[:,2]\n",
    "validWeather = validNP[:,1]"
   ]
  },
  {
   "cell_type": "code",
   "execution_count": null,
   "metadata": {},
   "outputs": [],
   "source": [
    "# SARIMAX example\n",
    "from statsmodels.tsa.statespace.sarimax import SARIMAX\n",
    "from random import random\n",
    "# contrived dataset\n",
    "\n",
    "\n",
    "\n",
    "# fit model\n",
    "model = SARIMAX(trainWeight, exog=trainWeather, order=(0,0,1), seasonal_order=(0,1,0,12)) #This is good\n",
    "\n",
    "#model = SARIMAX(trainWeight, exog=trainWeather, order=(1, 0, 0), seasonal_order=(0, 0, 0, 365))\n",
    "#model = SARIMAX(trainWeight, exog=trainWeather, order=(1, 1, 1), seasonal_order=(0, 0, 0, 0))\n",
    "#model = SARIMAX(trainWeight, exog=trainWeather, order=(2, 1, 0), seasonal_order=(1,1,0,12))\n",
    "\n",
    "\n",
    "model_fit = model.fit(disp=False)\n",
    "#print(model_fit.summary())\n",
    "\n",
    "#yhat = model_fit.forecast(19)\n",
    "\n",
    "# make prediction\n",
    "\n",
    "predict = model_fit.get_prediction()\n",
    "predict_ci = predict.conf_int()\n",
    "prediction = []\n",
    "#for i in range(len(predict_ci)):\n",
    "for i in range(len(validWeight)):\n",
    "    prediction.append([mean(predict_ci[i])])\n",
    "#print(prediction)\n",
    "\n",
    "#pred = model_fit.get_prediction()\n",
    "#print(pred.prediction_results)\n",
    "\n",
    "\n",
    "#exog2 = [200 + random()]\n",
    "#print(exog2)\n",
    "#yhat = model_fit.predict(len(trainWeight), len(trainWeight)+18, exog=validWeather)\n",
    "#print(yhat)\n"
   ]
  },
  {
   "cell_type": "code",
   "execution_count": null,
   "metadata": {
    "scrolled": true
   },
   "outputs": [],
   "source": [
    "#converting predictions to dataframe\n",
    "cols = df.columns\n",
    "pred = pd.DataFrame(index=range(0,len(prediction)),columns=['Weight (tons)'])\n",
    "for j in range(0,1):\n",
    "    for i in range(0, len(prediction)):\n",
    "       pred.iloc[i][j] = prediction[i][j]\n",
    "\n",
    "pred.index = dfprep.Date[int(0.7*(len(df))):]\n",
    "\n",
    "print(sqrt(mean_squared_error(pred, valid['Weight (tons)'])))\n",
    "#np.savetxt(\"pred.csv\", prediction, delimiter=\",\")"
   ]
  },
  {
   "cell_type": "markdown",
   "metadata": {},
   "source": [
    "# NN https://machinelearningmastery.com/multivariate-time-series-forecasting-lstms-keras/"
   ]
  },
  {
   "cell_type": "code",
   "execution_count": 54,
   "metadata": {},
   "outputs": [],
   "source": [
    "from datetime import datetime\n",
    "from math import sqrt\n",
    "from numpy import concatenate\n",
    "from matplotlib import pyplot\n",
    "import pandas as pd\n",
    "from pandas import read_csv\n",
    "from pandas import DataFrame\n",
    "from pandas import concat\n",
    "from sklearn.preprocessing import MinMaxScaler\n",
    "from sklearn.preprocessing import LabelEncoder\n",
    "from sklearn.metrics import mean_squared_error\n",
    "from keras.models import Sequential\n",
    "from keras.layers import Dense\n",
    "from keras.layers import LSTM"
   ]
  },
  {
   "cell_type": "code",
   "execution_count": 55,
   "metadata": {},
   "outputs": [],
   "source": [
    "# convert series to supervised learning\n",
    "def series_to_supervised(data, n_in=1, n_out=1, dropnan=True):\n",
    "    n_vars = 1 if type(data) is list else data.shape[1]\n",
    "    df = DataFrame(data)\n",
    "    cols, names = list(), list()\n",
    "    # input sequence (t-n, ... t-1)\n",
    "    for i in range(n_in, 0, -1):\n",
    "        cols.append(df.shift(i))\n",
    "        names += [('var%d(t-%d)' % (j+1, i)) for j in range(n_vars)]\n",
    "    # forecast sequence (t, t+1, ... t+n)\n",
    "    for i in range(0, n_out):\n",
    "        cols.append(df.shift(-i))\n",
    "        if i == 0:\n",
    "            names += [('var%d(t)' % (j+1)) for j in range(n_vars)]\n",
    "        else:\n",
    "            names += [('var%d(t+%d)' % (j+1, i)) for j in range(n_vars)]\n",
    "    # put it all together\n",
    "    agg = concat(cols, axis=1)\n",
    "    agg.columns = names\n",
    "    # drop rows with NaN values\n",
    "    if dropnan:\n",
    "        agg.dropna(inplace=True)\n",
    "    return agg\n",
    " "
   ]
  },
  {
   "cell_type": "code",
   "execution_count": 56,
   "metadata": {},
   "outputs": [],
   "source": [
    "# load dataset\n",
    "datasetPrep = pd.read_csv('data2.csv')\n",
    "\n",
    "datasetPrep.drop(datasetPrep.tail(1).index,inplace=True)\n",
    "datasetPrep = datasetPrep.drop(datasetPrep.columns[[3, 4, 5, 6, 7, 8, 9, 10, 11]], axis=1)\n",
    "\n",
    "datasetPrep['Date'] = pd.to_datetime(datasetPrep.Date , format = '%Y/%m/%d')\n",
    "dataset = datasetPrep.drop(['Date'], axis=1)\n",
    "dataset.index = datasetPrep.Date\n",
    "\n",
    "values = dataset.values"
   ]
  },
  {
   "cell_type": "code",
   "execution_count": 57,
   "metadata": {},
   "outputs": [],
   "source": [
    "# integer encode direction\n",
    "encoder = LabelEncoder()\n",
    "values[:,1] = encoder.fit_transform(values[:,1])\n",
    "# ensure all data is float\n",
    "values = values.astype('float32')\n",
    "# normalize features\n",
    "scaler = MinMaxScaler(feature_range=(0, 1))\n",
    "scaled = scaler.fit_transform(values)\n",
    "# frame as supervised learning\n",
    "reframed = series_to_supervised(scaled, 1, 1)\n",
    "reframed = reframed.drop(reframed.columns[[3]], axis=1)\n"
   ]
  },
  {
   "cell_type": "code",
   "execution_count": 66,
   "metadata": {},
   "outputs": [
    {
     "name": "stdout",
     "output_type": "stream",
     "text": [
      "(43, 1, 2) (43,) (19, 1, 2) (19,)\n"
     ]
    }
   ],
   "source": [
    "# split into train and test sets\n",
    "values = reframed.values\n",
    "n_train_months = int(0.7*(len(dataset))-1)\n",
    "train = values[:n_train_months, :]\n",
    "test = values[n_train_months:, :]\n",
    "# split into input and outputs\n",
    "train_X, train_y = train[:, :-1], train[:, -1]\n",
    "test_X, test_y = test[:, :-1], test[:, -1]\n",
    "# reshape input to be 3D [samples, timesteps, features]\n",
    "train_X = train_X.reshape((train_X.shape[0], 1, train_X.shape[1]))\n",
    "test_X = test_X.reshape((test_X.shape[0], 1, test_X.shape[1]))\n",
    "print(train_X.shape, train_y.shape, test_X.shape, test_y.shape)\n"
   ]
  },
  {
   "cell_type": "code",
   "execution_count": 67,
   "metadata": {},
   "outputs": [
    {
     "name": "stdout",
     "output_type": "stream",
     "text": [
      "Train on 43 samples, validate on 19 samples\n",
      "Epoch 1/75\n",
      " - 1s - loss: 0.5697 - val_loss: 0.5875\n",
      "Epoch 2/75\n",
      " - 0s - loss: 0.5633 - val_loss: 0.5806\n",
      "Epoch 3/75\n",
      " - 0s - loss: 0.5569 - val_loss: 0.5736\n",
      "Epoch 4/75\n",
      " - 0s - loss: 0.5505 - val_loss: 0.5666\n",
      "Epoch 5/75\n",
      " - 0s - loss: 0.5441 - val_loss: 0.5599\n",
      "Epoch 6/75\n",
      " - 0s - loss: 0.5379 - val_loss: 0.5529\n",
      "Epoch 7/75\n",
      " - 0s - loss: 0.5314 - val_loss: 0.5459\n",
      "Epoch 8/75\n",
      " - 0s - loss: 0.5249 - val_loss: 0.5388\n",
      "Epoch 9/75\n",
      " - 0s - loss: 0.5184 - val_loss: 0.5318\n",
      "Epoch 10/75\n",
      " - 0s - loss: 0.5119 - val_loss: 0.5247\n",
      "Epoch 11/75\n",
      " - 0s - loss: 0.5054 - val_loss: 0.5176\n",
      "Epoch 12/75\n",
      " - 0s - loss: 0.4988 - val_loss: 0.5104\n",
      "Epoch 13/75\n",
      " - 0s - loss: 0.4922 - val_loss: 0.5032\n",
      "Epoch 14/75\n",
      " - 0s - loss: 0.4856 - val_loss: 0.4960\n",
      "Epoch 15/75\n",
      " - 0s - loss: 0.4790 - val_loss: 0.4887\n",
      "Epoch 16/75\n",
      " - 0s - loss: 0.4727 - val_loss: 0.4814\n",
      "Epoch 17/75\n",
      " - 0s - loss: 0.4663 - val_loss: 0.4741\n",
      "Epoch 18/75\n",
      " - 0s - loss: 0.4599 - val_loss: 0.4667\n",
      "Epoch 19/75\n",
      " - 0s - loss: 0.4534 - val_loss: 0.4593\n",
      "Epoch 20/75\n",
      " - 0s - loss: 0.4472 - val_loss: 0.4519\n",
      "Epoch 21/75\n",
      " - 0s - loss: 0.4409 - val_loss: 0.4443\n",
      "Epoch 22/75\n",
      " - 0s - loss: 0.4346 - val_loss: 0.4368\n",
      "Epoch 23/75\n",
      " - 0s - loss: 0.4283 - val_loss: 0.4293\n",
      "Epoch 24/75\n",
      " - 0s - loss: 0.4219 - val_loss: 0.4216\n",
      "Epoch 25/75\n",
      " - 0s - loss: 0.4154 - val_loss: 0.4142\n",
      "Epoch 26/75\n",
      " - 0s - loss: 0.4091 - val_loss: 0.4071\n",
      "Epoch 27/75\n",
      " - 0s - loss: 0.4028 - val_loss: 0.4000\n",
      "Epoch 28/75\n",
      " - 0s - loss: 0.3965 - val_loss: 0.3928\n",
      "Epoch 29/75\n",
      " - 0s - loss: 0.3902 - val_loss: 0.3855\n",
      "Epoch 30/75\n",
      " - 0s - loss: 0.3838 - val_loss: 0.3782\n",
      "Epoch 31/75\n",
      " - 0s - loss: 0.3773 - val_loss: 0.3708\n",
      "Epoch 32/75\n",
      " - 0s - loss: 0.3708 - val_loss: 0.3633\n",
      "Epoch 33/75\n",
      " - 0s - loss: 0.3642 - val_loss: 0.3560\n",
      "Epoch 34/75\n",
      " - 0s - loss: 0.3576 - val_loss: 0.3495\n",
      "Epoch 35/75\n",
      " - 0s - loss: 0.3509 - val_loss: 0.3434\n",
      "Epoch 36/75\n",
      " - 0s - loss: 0.3440 - val_loss: 0.3373\n",
      "Epoch 37/75\n",
      " - 0s - loss: 0.3371 - val_loss: 0.3312\n",
      "Epoch 38/75\n",
      " - 0s - loss: 0.3302 - val_loss: 0.3250\n",
      "Epoch 39/75\n",
      " - 0s - loss: 0.3231 - val_loss: 0.3187\n",
      "Epoch 40/75\n",
      " - 0s - loss: 0.3160 - val_loss: 0.3123\n",
      "Epoch 41/75\n",
      " - 0s - loss: 0.3088 - val_loss: 0.3058\n",
      "Epoch 42/75\n",
      " - 0s - loss: 0.3017 - val_loss: 0.2993\n",
      "Epoch 43/75\n",
      " - 0s - loss: 0.2950 - val_loss: 0.2927\n",
      "Epoch 44/75\n",
      " - 0s - loss: 0.2885 - val_loss: 0.2861\n",
      "Epoch 45/75\n",
      " - 0s - loss: 0.2824 - val_loss: 0.2795\n",
      "Epoch 46/75\n",
      " - 0s - loss: 0.2763 - val_loss: 0.2734\n",
      "Epoch 47/75\n",
      " - 0s - loss: 0.2702 - val_loss: 0.2677\n",
      "Epoch 48/75\n",
      " - 0s - loss: 0.2640 - val_loss: 0.2622\n",
      "Epoch 49/75\n",
      " - 0s - loss: 0.2579 - val_loss: 0.2570\n",
      "Epoch 50/75\n",
      " - 0s - loss: 0.2517 - val_loss: 0.2517\n",
      "Epoch 51/75\n",
      " - 0s - loss: 0.2454 - val_loss: 0.2463\n",
      "Epoch 52/75\n",
      " - 0s - loss: 0.2391 - val_loss: 0.2409\n",
      "Epoch 53/75\n",
      " - 0s - loss: 0.2329 - val_loss: 0.2354\n",
      "Epoch 54/75\n",
      " - 0s - loss: 0.2267 - val_loss: 0.2299\n",
      "Epoch 55/75\n",
      " - 0s - loss: 0.2204 - val_loss: 0.2244\n",
      "Epoch 56/75\n",
      " - 0s - loss: 0.2142 - val_loss: 0.2188\n",
      "Epoch 57/75\n",
      " - 0s - loss: 0.2079 - val_loss: 0.2131\n",
      "Epoch 58/75\n",
      " - 0s - loss: 0.2019 - val_loss: 0.2075\n",
      "Epoch 59/75\n",
      " - 0s - loss: 0.1959 - val_loss: 0.2021\n",
      "Epoch 60/75\n",
      " - 0s - loss: 0.1904 - val_loss: 0.1977\n",
      "Epoch 61/75\n",
      " - 0s - loss: 0.1852 - val_loss: 0.1934\n",
      "Epoch 62/75\n",
      " - 0s - loss: 0.1799 - val_loss: 0.1896\n",
      "Epoch 63/75\n",
      " - 0s - loss: 0.1752 - val_loss: 0.1859\n",
      "Epoch 64/75\n",
      " - 0s - loss: 0.1709 - val_loss: 0.1823\n",
      "Epoch 65/75\n",
      " - 0s - loss: 0.1671 - val_loss: 0.1787\n",
      "Epoch 66/75\n",
      " - 0s - loss: 0.1633 - val_loss: 0.1751\n",
      "Epoch 67/75\n",
      " - 0s - loss: 0.1599 - val_loss: 0.1716\n",
      "Epoch 68/75\n",
      " - 0s - loss: 0.1566 - val_loss: 0.1686\n",
      "Epoch 69/75\n",
      " - 0s - loss: 0.1534 - val_loss: 0.1656\n",
      "Epoch 70/75\n",
      " - 0s - loss: 0.1507 - val_loss: 0.1626\n",
      "Epoch 71/75\n",
      " - 0s - loss: 0.1480 - val_loss: 0.1598\n",
      "Epoch 72/75\n",
      " - 0s - loss: 0.1454 - val_loss: 0.1569\n",
      "Epoch 73/75\n",
      " - 0s - loss: 0.1430 - val_loss: 0.1541\n",
      "Epoch 74/75\n",
      " - 0s - loss: 0.1413 - val_loss: 0.1514\n",
      "Epoch 75/75\n",
      " - 0s - loss: 0.1397 - val_loss: 0.1488\n"
     ]
    },
    {
     "data": {
      "image/png": "[encoded data removed]",
      "text/plain": [
       "<Figure size 432x288 with 1 Axes>"
      ]
     },
     "metadata": {
      "needs_background": "light"
     },
     "output_type": "display_data"
    }
   ],
   "source": [
    "\n",
    "# design network\n",
    "model = Sequential()\n",
    "model.add(LSTM(50, input_shape=(train_X.shape[1], train_X.shape[2])))\n",
    "model.add(Dense(1))\n",
    "model.compile(loss='mae', optimizer='adam')\n",
    "# fit network\n",
    "history = model.fit(train_X, train_y, epochs=75, batch_size=72, validation_data=(test_X, test_y), verbose=2, shuffle=False)\n",
    "# plot history\n",
    "pyplot.plot(history.history['loss'], label='train')\n",
    "pyplot.plot(history.history['val_loss'], label='test')\n",
    "pyplot.legend()\n",
    "pyplot.show()\n"
   ]
  },
  {
   "cell_type": "code",
   "execution_count": 68,
   "metadata": {},
   "outputs": [
    {
     "name": "stdout",
     "output_type": "stream",
     "text": [
      "Test RMSE: 5.911\n"
     ]
    }
   ],
   "source": [
    "# make a prediction\n",
    "yhat = model.predict(test_X)\n",
    "test_X = test_X.reshape((test_X.shape[0], test_X.shape[2]))\n",
    "# invert scaling for forecast\n",
    "inv_yhat = concatenate((yhat, test_X[:, 1:]), axis=1)\n",
    "\n",
    "inv_yhat = scaler.inverse_transform(inv_yhat)\n",
    "\n",
    "inv_yhat = inv_yhat[:,0]\n",
    "# invert scaling for actual\n",
    "test_y = test_y.reshape((len(test_y), 1))\n",
    "inv_y = concatenate((test_y, test_X[:, 1:]), axis=1)\n",
    "inv_y = scaler.inverse_transform(inv_y)\n",
    "inv_y = inv_y[:,0]\n",
    "# calculate RMSE\n",
    "rmse = sqrt(mean_squared_error(inv_y, inv_yhat))\n",
    "print('Test RMSE: %.3f' % rmse)"
   ]
  },
  {
   "cell_type": "code",
   "execution_count": 69,
   "metadata": {},
   "outputs": [],
   "source": [
    "#converting predictions to dataframe\n",
    "from copy import deepcopy\n",
    "prediction = deepcopy(inv_y)\n",
    "prediction = np.split(prediction, len(prediction))\n",
    "\n",
    "cols = df.columns\n",
    "pred = pd.DataFrame(index=range(0,len(prediction)),columns=['Weight (tons)'])\n",
    "for j in range(0,1):\n",
    "    for i in range(0, len(prediction)):\n",
    "        pred.iloc[i][j] = prediction[i][j]\n",
    "\n",
    "pred.index = dfprep.Date[int(0.7*(len(df))):]\n",
    "\n",
    "#pred.index = dfprepDatelessone\n",
    "\n",
    "#print(sqrt(mean_squared_error(pred, valid['Weight (tons)'])))\n",
    "#np.savetxt(\"pred.csv\", prediction, delimiter=\",\")"
   ]
  },
  {
   "cell_type": "markdown",
   "metadata": {},
   "source": [
    "# Random Forest https://towardsdatascience.com/multivariate-time-series-forecasting-using-random-forest-2372f3ecbad1"
   ]
  },
  {
   "cell_type": "code",
   "execution_count": null,
   "metadata": {},
   "outputs": [],
   "source": [
    "from sklearn.ensemble.forest import RandomForestRegressor\n",
    "\n",
    "\n",
    "rgr = RandomForestRegressor(n_estimators=100, max_features=1, oob_score=True)\n",
    "\n",
    "feat = train.index[:,None]\n",
    "lab = train['Weight (tons)']#.index[:]\n",
    "\n",
    "rgr.fit(feat, lab)\n",
    "#rgr.fit(train.index, train['Weight (tons)'])\n",
    "\n",
    "prediction = rgr.predict(feat)\n",
    "prediction = np.split(prediction, len(prediction))"
   ]
  },
  {
   "cell_type": "code",
   "execution_count": null,
   "metadata": {},
   "outputs": [],
   "source": [
    "#converting predictions to dataframe\n",
    "cols = df.columns\n",
    "pred = pd.DataFrame(index=range(0,len(valid)),columns=['Weight (tons)'])\n",
    "for j in range(0,1):\n",
    "    for i in range(0, len(valid)):\n",
    "        pred.iloc[i][j] = prediction[i][j]\n",
    "\n",
    "pred.index = dfprep.Date[int(0.7*(len(df))):]\n",
    "\n",
    "print(sqrt(mean_squared_error(pred, valid['Weight (tons)'])))\n",
    "#np.savetxt(\"pred.csv\", prediction, delimiter=\",\")"
   ]
  },
  {
   "cell_type": "markdown",
   "metadata": {},
   "source": [
    "# Plot"
   ]
  },
  {
   "cell_type": "code",
   "execution_count": 70,
   "metadata": {},
   "outputs": [
    {
     "data": {
      "image/png": "[encoded data removed]",
      "text/plain": [
       "<Figure size 432x288 with 1 Axes>"
      ]
     },
     "metadata": {
      "needs_background": "light"
     },
     "output_type": "display_data"
    }
   ],
   "source": [
    "#plt.plot(pred.loc[:,['Weather (C)']], label = ('Weather Prediction'))\n",
    "plt.plot(pred.loc[:,['Weight (tons)']], label = ('Weight Prediction'))\n",
    "plt.legend()\n",
    "\n",
    "#plt.plot(valid.loc[:,['Weather (C)']], label = ('Weather Actual'))\n",
    "plt.plot(valid.loc[:,['Weight (tons)']], label = ('Weight Actual'))\n",
    "plt.legend()\n",
    "plt.xlabel('Date')\n",
    "plt.ylabel('Weight of Debris (tons)')\n",
    "\n",
    "plt.ylim(-20,60)\n",
    "plt.show()"
   ]
  },
  {
   "cell_type": "code",
   "execution_count": null,
   "metadata": {},
   "outputs": [],
   "source": []
  }
 ],
 "metadata": {
  "kernelspec": {
   "display_name": "Python 3",
   "language": "python",
   "name": "python3"
  },
  "language_info": {
   "codemirror_mode": {
    "name": "ipython",
    "version": 3
   },
   "file_extension": ".py",
   "mimetype": "text/x-python",
   "name": "python",
   "nbconvert_exporter": "python",
   "pygments_lexer": "ipython3",
   "version": "3.7.4"
  }
 },
 "nbformat": 4,
 "nbformat_minor": 2
}
